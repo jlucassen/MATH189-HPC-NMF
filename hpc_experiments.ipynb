{
 "cells": [
  {
   "cell_type": "code",
   "execution_count": 1,
   "metadata": {},
   "outputs": [],
   "source": [
    "import numpy as np\n",
    "import threading\n",
    "import queue\n",
    "import time\n",
    "import matplotlib.pyplot as plt"
   ]
  },
  {
   "cell_type": "code",
   "execution_count": 14,
   "metadata": {},
   "outputs": [],
   "source": [
    "def hpc_thread_function_w(a, w, h, cross_queues, out_queue, i, n_col):\n",
    "    my_u = h @ h.T # calculate my piece of u\n",
    "    u = h @ h.T # keep a running sum (not a reference to my_u!!)\n",
    "    status = [0 for _ in cross_queues] # 0 means nothing done yet\n",
    "    while sum(status) < 2*len(cross_queues): # 2 means done\n",
    "    #while np.all(x == 2 or x == 3 for x in status):\n",
    "        for j, (q, lock) in enumerate(cross_queues):\n",
    "            with lock:\n",
    "                if status[j] == 0 and q.empty():\n",
    "                    q.put(my_u)\n",
    "                    status[j] = 1 # 1 means in write-first mode\n",
    "                elif status[j] == 0 and not q.empty():\n",
    "                    other_u = q.get()\n",
    "                    assert q.empty()\n",
    "                    u += other_u\n",
    "                    q.put(my_u)\n",
    "                    q.put(None) # mark that content has been read and re-written by filling queue to 2\n",
    "                    assert q.full()\n",
    "                    status[j] = 2 # 2 means done\n",
    "                elif status[j] == 1 and q.full(): # see that content has been read and re-written\n",
    "                    other_u = q.get()\n",
    "                    q.get() # clear the cross-queue\n",
    "                    assert q.empty()\n",
    "                    u += other_u\n",
    "                    status[j] = 2.00001 # 2 means done\n",
    "    out_queue.put(u)\n",
    "\n",
    "\n",
    "def HPC_NMF(a, k, p_row, p_col, numIter):\n",
    "    m, n = np.shape(a)\n",
    "    if m % (p_row*p_col) > 0:\n",
    "        raise TypeError('Input first dimension not divisible by number of threads')\n",
    "    if n % (p_row*p_col) > 0:\n",
    "        raise TypeError('Input second dimension not divisible by number of threads')\n",
    "    w = np.random.rand(m, k)\n",
    "    h = np.random.rand(k, n)\n",
    "\n",
    "    a_pieces = [np.split(x, p_col, 1) for x in np.split(a, p_row, 0)] # cut a into p_row x p_col pieces of shape m/p_row x n/p_col\n",
    "    assert np.shape(a_pieces[0][0]) == (int(m/p_row), int(n/p_col))\n",
    "\n",
    "    for _ in range(numIter):\n",
    "        u = np.zeros((k, k))\n",
    "        h_pieces = np.split(h, p_row*p_col, 1) # cut h into p_row*p_col pieces of shape k x n/(p_row*p_col)\n",
    "        assert np.shape(h_pieces[0]) == (k, int(n/(p_row*p_col)))\n",
    "\n",
    "        threads_w = []\n",
    "        cross_queues_w = []\n",
    "        out_queue_w = queue.Queue(maxsize=p_row*p_col)\n",
    "        for first in range(p_row*p_col):\n",
    "            for second in range(first+1, p_row*p_col):\n",
    "                cross_queues_w.append((first, second, queue.Queue(maxsize=2), threading.Lock())) # assign each pair a unique queue and a unique lock\n",
    "        for i in range(p_row*p_col): # split into p threads to calculate updates for each piece\n",
    "            newThread = threading.Thread(target = hpc_thread_function_w, args = \n",
    "                (a_pieces[i%p_row][int(i/p_row)],\n",
    "                 w,\n",
    "                 h_pieces[i],\n",
    "                 [(q, l) for j, jj, q, l in cross_queues_w if i == j or i == jj],\n",
    "                 out_queue_w,\n",
    "                 i,\n",
    "                 p_col))\n",
    "            newThread.start()\n",
    "            threads_w.append(newThread)\n",
    "        for thread in threads_w: # wait for all threads to complete\n",
    "            thread.join()\n",
    "        assert [q.empty() for _, _, q, _ in cross_queues_w]\n",
    "        while not out_queue_w.empty(): # reconstitute and update w\n",
    "            np.all(np.isclose(h@h.T, out_queue_w.get()))\n",
    "    return\n",
    "\n",
    "HPC_NMF(np.identity(16)+1, 16, 4, 4, 1)\n"
   ]
  }
 ],
 "metadata": {
  "kernelspec": {
   "display_name": "Python 3",
   "language": "python",
   "name": "python3"
  },
  "language_info": {
   "codemirror_mode": {
    "name": "ipython",
    "version": 3
   },
   "file_extension": ".py",
   "mimetype": "text/x-python",
   "name": "python",
   "nbconvert_exporter": "python",
   "pygments_lexer": "ipython3",
   "version": "3.9.6"
  },
  "orig_nbformat": 4,
  "vscode": {
   "interpreter": {
    "hash": "ce49416ec5583b0c8275b442a1d04bbfd540648d21a9ae0fe7642419cc3fbdff"
   }
  }
 },
 "nbformat": 4,
 "nbformat_minor": 2
}

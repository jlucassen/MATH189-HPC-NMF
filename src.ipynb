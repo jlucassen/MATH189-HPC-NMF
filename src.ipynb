{
 "cells": [
  {
   "cell_type": "code",
   "execution_count": 106,
   "metadata": {},
   "outputs": [],
   "source": [
    "import numpy as np\n",
    "import threading\n",
    "import queue"
   ]
  },
  {
   "cell_type": "code",
   "execution_count": 107,
   "metadata": {},
   "outputs": [
    {
     "data": {
      "text/plain": [
       "array([[2., 1., 1., 1., 1., 1., 1., 1.],\n",
       "       [1., 2., 1., 1., 1., 1., 1., 1.],\n",
       "       [1., 1., 2., 1., 1., 1., 1., 1.],\n",
       "       [1., 1., 1., 2., 1., 1., 1., 1.],\n",
       "       [1., 1., 1., 1., 2., 1., 1., 1.],\n",
       "       [1., 1., 1., 1., 1., 2., 1., 1.],\n",
       "       [1., 1., 1., 1., 1., 1., 2., 1.],\n",
       "       [1., 1., 1., 1., 1., 1., 1., 2.]])"
      ]
     },
     "execution_count": 107,
     "metadata": {},
     "output_type": "execute_result"
    }
   ],
   "source": [
    "def simple_NMF(a, k, i):\n",
    "    m, n = np.shape(a)\n",
    "    w = np.random.rand(m, k)\n",
    "    h = np.random.rand(k, n)\n",
    "    for _ in range(i):\n",
    "        w = w * (a @ h.T) / (w @ h @ h.T)\n",
    "        h = h * (w.T @ a) / (w.T @ w @ h)\n",
    "    return w @ h\n",
    "\n",
    "simple_NMF(np.identity(8)+1, 8, 1000)"
   ]
  },
  {
   "cell_type": "code",
   "execution_count": 108,
   "metadata": {},
   "outputs": [
    {
     "data": {
      "text/plain": [
       "array([[2., 1., 1., 1., 1., 1., 1., 1.],\n",
       "       [1., 2., 1., 1., 1., 1., 1., 1.],\n",
       "       [1., 1., 2., 1., 1., 1., 1., 1.],\n",
       "       [1., 1., 1., 2., 1., 1., 1., 1.],\n",
       "       [1., 1., 1., 1., 2., 1., 1., 1.],\n",
       "       [1., 1., 1., 1., 1., 2., 1., 1.],\n",
       "       [1., 1., 1., 1., 1., 1., 2., 1.],\n",
       "       [1., 1., 1., 1., 1., 1., 1., 2.]])"
      ]
     },
     "execution_count": 108,
     "metadata": {},
     "output_type": "execute_result"
    }
   ],
   "source": [
    "def thread_function_w(a, w, h, q, i):\n",
    "    q.put((i, w * (a @ h.T) / (w @ h @ h.T)))\n",
    "\n",
    "def thread_function_h(a, w, h, q, i):\n",
    "    q.put((i, h * (w.T @ a) / (w.T @ w @ h)))\n",
    "\n",
    "def naive_parallel_NMF(a, k, p, numIter):\n",
    "    m, n = np.shape(a)\n",
    "    if m % p > 0:\n",
    "        raise TypeError('Input first dimension not divisible by number of threads')\n",
    "    if n % p > 0:\n",
    "        raise TypeError('Input second dimension not divisible by number of threads')\n",
    "    w = np.random.rand(m, k)\n",
    "    h = np.random.rand(k, n)\n",
    "    a_pieces_1 = np.split(a, p, 0) # cut a into p pieces of shape m/p x n\n",
    "    assert np.shape(a_pieces_1[0]) == (m/p, n)\n",
    "    a_pieces_2 = np.split(a, p, 1) # cut a into p pieces of shape m x n/p\n",
    "    assert np.shape(a_pieces_2[0]) == (m, n/p)\n",
    "    \n",
    "    for _ in range(numIter):\n",
    "        w_pieces = np.split(w, p, 0) # cut w into p pieces of shape m/p x n\n",
    "        assert np.shape(w_pieces[0]) == (m/p, n)\n",
    "        w_threads = []\n",
    "        w_queue = queue.Queue()\n",
    "        for j in range(p): # split into p threads to calculate updates for each piece\n",
    "            newThread = threading.Thread(target = thread_function_w, args = (a_pieces_1[j], w_pieces[j], h, w_queue, j))\n",
    "            newThread.start()\n",
    "            w_threads.append(newThread)\n",
    "        for thread in w_threads: # wait for all threads to complete\n",
    "            thread.join()\n",
    "        while not w_queue.empty(): # reconstitute and update w\n",
    "            i, val = w_queue.get()\n",
    "            w_pieces[i] = val\n",
    "        w = np.concatenate(w_pieces, 0)\n",
    "\n",
    "        h_pieces = np.split(h, p, 1) # cut h into p pieces of shape m x n/p\n",
    "        assert np.shape(h_pieces[0]) == (m, n/p)\n",
    "        h_threads = []\n",
    "        h_queue = queue.Queue()\n",
    "        for j in range(p): # split into p threads to calculate updates for each piece\n",
    "            newThread = threading.Thread(target = thread_function_h, args = (a_pieces_2[j], w, h_pieces[j], h_queue, j))\n",
    "            newThread.start()\n",
    "            h_threads.append(newThread)\n",
    "        for thread in h_threads: # wait for all threads to complete\n",
    "            thread.join()\n",
    "        while not h_queue.empty(): # reconstitute and update h\n",
    "            i, val = h_queue.get()\n",
    "            h_pieces[i] = val\n",
    "        h = np.concatenate(h_pieces, 1)\n",
    "    return w @ h\n",
    "    \n",
    "naive_parallel_NMF(np.identity(8)+1, 8, 4, 1000)"
   ]
  },
  {
   "cell_type": "code",
   "execution_count": 177,
   "metadata": {},
   "outputs": [
    {
     "data": {
      "text/plain": [
       "array([[2., 1., 1., 1., 1., 1.],\n",
       "       [1., 2., 1., 1., 1., 1.],\n",
       "       [1., 1., 2., 1., 1., 1.],\n",
       "       [1., 1., 1., 2., 1., 1.],\n",
       "       [1., 1., 1., 1., 2., 1.],\n",
       "       [1., 1., 1., 1., 1., 2.]])"
      ]
     },
     "execution_count": 177,
     "metadata": {},
     "output_type": "execute_result"
    }
   ],
   "source": [
    "def vertical_thread_function_u(h, q):\n",
    "    q.put(h @ h.T)\n",
    "\n",
    "def vertical_thread_function_v(a, h, q, i):\n",
    "    q.put((i, a @ h.T))\n",
    "\n",
    "def vertical_thread_function_w(w, u, v, q, i):\n",
    "    q.put((i, w * v / (w @ u)))\n",
    "\n",
    "# def vertical_thread_function_x(w, q, i, j):\n",
    "#     q.put((i, j, w.T @ w))\n",
    "\n",
    "# def vertical_thread_function_y(a, w, q, i, j):\n",
    "#     q.put((i, j, w.T @ a))\n",
    "\n",
    "def vertical_HPC_NMF(a, k, p_row, p_col, numIter):\n",
    "    m, n = np.shape(a)\n",
    "    if m % (p_row*p_col) > 0:\n",
    "        raise TypeError('Input first dimension not divisible by number of threads')\n",
    "    if n % (p_row*p_col) > 0:\n",
    "        raise TypeError('Input second dimension not divisible by number of threads')\n",
    "    w = np.random.rand(m, k)\n",
    "    h = np.random.rand(k, n)\n",
    "\n",
    "    a_pieces = [np.split(x, p_col, 1) for x in np.split(a, p_row, 0)] # cut a into p_row x p_col pieces of shape m/p_row x n/p_col\n",
    "    assert np.shape(a_pieces[0][0]) == (m/p_row, n/p_col)\n",
    "\n",
    "    for _ in range(numIter):\n",
    "        u = np.zeros((k, k))\n",
    "        h_pieces_u = np.split(h, p_row*p_col, 1) # cut h into p_row*p_col pieces of shape k x n/(p_row*p_col)\n",
    "        assert np.shape(h_pieces_u[0]) == (k, n/(p_row*p_col))\n",
    "        threads_u = []\n",
    "        queue_u = queue.Queue()\n",
    "        for i in range(p_row*p_col): # split into p_row*p_col threads to calculate u for each piece\n",
    "            newThread = threading.Thread(target = vertical_thread_function_u, args = (h_pieces_u[i], queue_u))\n",
    "            newThread.start()\n",
    "            threads_u.append(newThread)\n",
    "        for thread in threads_u: # wait for all threads to complete\n",
    "            thread.join()\n",
    "        while not queue_u.empty(): # sum up u\n",
    "            u += queue_u.get()\n",
    "        assert np.all(np.isclose(u, h @ h.T))       \n",
    "\n",
    "        v = np.zeros((m, k))\n",
    "        v_pieces = np.split(v, p_row, 0) # cut v into p_row pieces of shape m/p_row x k\n",
    "        assert np.shape(v_pieces[0]) == (m/p_row, k)\n",
    "        h_pieces_v = np.split(h, p_col, 1) # cut h into p_col pieces of shape k x n/p_col\n",
    "        assert np.shape(h_pieces_v[0]) == (k, n/p_col)\n",
    "        threads_v = []\n",
    "        queue_v = queue.Queue()\n",
    "        for i in range(p_row*p_col): # split into p_row*p_col threads to calculate updates for each piece\n",
    "            newThread = threading.Thread(target = vertical_thread_function_v, args = (a_pieces[int(i/p_col)][i%p_col], h_pieces_v[i%p_col], queue_v, i))\n",
    "            newThread.start()\n",
    "            threads_v.append(newThread)\n",
    "        for thread in threads_v:\n",
    "            thread.join()\n",
    "        while not queue_v.empty():\n",
    "            i, val = queue_v.get()\n",
    "            v_pieces[int(i/p_col)] += val\n",
    "        v = np.concatenate(v_pieces, 0)\n",
    "        assert np.all(np.isclose(v, a @ h.T))\n",
    "        \n",
    "        w_pieces = np.split(w, p_row*p_col, 0) # cut w into p_row x p_col pieces of shape m/(p_row*p_col) x k\n",
    "        assert np.shape(w_pieces[0]) == (m/(p_row*p_col), k)\n",
    "        v_pieces_w = np.split(v, p_row*p_col, 0) # cut v into p_row x p_col pieces of shape m/(p_row*p_col) x k\n",
    "        assert np.shape(v_pieces_w[0]) == (m/(p_row*p_col), k)\n",
    "        threads_w = []\n",
    "        queue_w = queue.Queue()\n",
    "        for i in range(p_row*p_col): # split into p_rpw*p_col threads to calculate updates for each piece\n",
    "            newThread = threading.Thread(target = vertical_thread_function_w, args = (w_pieces[i], u, v_pieces_w[i], queue_w, i))\n",
    "            newThread.start()\n",
    "            threads_w.append(newThread)\n",
    "        for thread in threads_w: # wait for all threads to complete\n",
    "            thread.join()\n",
    "        while not queue_w.empty(): # sum up u\n",
    "            i, val = queue_w.get()\n",
    "            w_pieces[i] = val\n",
    "        w = np.concatenate(w_pieces, 0)\n",
    "        \n",
    "        h = h * (w.T @ a) / (w.T @ w @ h)\n",
    "        # x = np.zeros((k, k))\n",
    "        # y = np.zeros((k, n))\n",
    "        \n",
    "    return w @ h\n",
    "\n",
    "#vertical_HPC_NMF(np.random.rand(64, 32), 2, 4, 2, 100)\n",
    "#vertical_HPC_NMF(np.ones((24, 12)), 4, 2, 3, 1)\n",
    "#vertical_HPC_NMF(np.array([[1,2,3,4],[2,3,4,5],[3,4,1,2],[4,1,2,5]]), 4, 2, 2, 1)\n",
    "vertical_HPC_NMF(np.identity(6)+1, 6, 3, 2, 1000)"
   ]
  }
 ],
 "metadata": {
  "kernelspec": {
   "display_name": "Python 3.9.6 64-bit",
   "language": "python",
   "name": "python3"
  },
  "language_info": {
   "codemirror_mode": {
    "name": "ipython",
    "version": 3
   },
   "file_extension": ".py",
   "mimetype": "text/x-python",
   "name": "python",
   "nbconvert_exporter": "python",
   "pygments_lexer": "ipython3",
   "version": "3.9.6"
  },
  "orig_nbformat": 4,
  "vscode": {
   "interpreter": {
    "hash": "ce49416ec5583b0c8275b442a1d04bbfd540648d21a9ae0fe7642419cc3fbdff"
   }
  }
 },
 "nbformat": 4,
 "nbformat_minor": 2
}

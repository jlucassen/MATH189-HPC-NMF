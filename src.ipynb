{
 "cells": [
  {
   "cell_type": "code",
   "execution_count": 5,
   "metadata": {},
   "outputs": [
    {
     "data": {
      "text/plain": [
       "(2, 2)"
      ]
     },
     "execution_count": 5,
     "metadata": {},
     "output_type": "execute_result"
    }
   ],
   "source": [
    "import numpy as np\n",
    "import threading\n",
    "import queue\n",
    "testArray = np.array([[1, 2], [2, 1]])\n",
    "np.shape(testArray)"
   ]
  },
  {
   "cell_type": "code",
   "execution_count": 6,
   "metadata": {},
   "outputs": [
    {
     "data": {
      "text/plain": [
       "array([[1., 2.],\n",
       "       [2., 1.]])"
      ]
     },
     "execution_count": 6,
     "metadata": {},
     "output_type": "execute_result"
    }
   ],
   "source": [
    "def simple_NMF(A, k, i):\n",
    "    m, n = np.shape(A)\n",
    "    W = np.random.rand(m, k)\n",
    "    H = np.random.rand(k, n)\n",
    "    for _ in range(i):\n",
    "        W = W * (A @ H.T) / (W @ H @ H.T)\n",
    "        H = H * (W.T @ A) / (W.T @ W @ H)\n",
    "    return W @ H\n",
    "\n",
    "simple_NMF(testArray, 2, 1000)"
   ]
  },
  {
   "cell_type": "code",
   "execution_count": 7,
   "metadata": {},
   "outputs": [
    {
     "data": {
      "text/plain": [
       "array([[1., 2.],\n",
       "       [2., 1.]])"
      ]
     },
     "execution_count": 7,
     "metadata": {},
     "output_type": "execute_result"
    }
   ],
   "source": [
    "def thread_function_w(a, w, h, q, i):\n",
    "    q.put((i, w * (a @ h.T) / (w @ h @ h.T)))\n",
    "\n",
    "def thread_function_h(a, w, h, q, i):\n",
    "    q.put((i, h * (w.T @ a) / (w.T @ w @ h)))\n",
    "\n",
    "def naive_parallel_NMF(a, k, p, numIter):\n",
    "    m, n = np.shape(a)\n",
    "    if m % p > 0:\n",
    "        raise TypeError('Input first dimension not divisible by number of threads')\n",
    "    if n % p > 0:\n",
    "        raise TypeError('Input second dimension not divisible by number of threads')\n",
    "    w = np.random.rand(m, k)\n",
    "    h = np.random.rand(k, n)\n",
    "    a_pieces_1 = [a[int(i*m/p):int((i+1)*m/p), :] for i in range(p)]\n",
    "    a_pieces_2 = [a[:, int(i*n/p):int((i+1)*n/p)] for i in range(p)]\n",
    "    \n",
    "    for _ in range(numIter):\n",
    "        w_pieces = [w[int(i*m/p):int((i+1)*m/p), :] for i in range(p)] # chop up w\n",
    "        w_threads = []\n",
    "        w_queue = queue.Queue()\n",
    "        for j in range(p):\n",
    "            newThread = threading.Thread(target = thread_function_w, args = (a_pieces_1[j], w_pieces[j], h, w_queue, j)) # each thread updates one section\n",
    "            newThread.start()\n",
    "            w_threads.append(newThread)\n",
    "        for thread in w_threads: # wait for all threads to complete\n",
    "            thread.join()\n",
    "        while not w_queue.empty(): # reconstitute and update w\n",
    "            i, v = w_queue.get()\n",
    "            w_pieces[i] = v\n",
    "        w = np.concatenate(w_pieces, 0)\n",
    "\n",
    "        h_pieces = [h[:, int(i*n/p):int((i+1)*n/p)] for i in range(p)] # same procedure for h\n",
    "        h_threads = []\n",
    "        h_queue = queue.Queue()\n",
    "        for j in range(p):\n",
    "            newThread = threading.Thread(target = thread_function_h, args = (a_pieces_2[j], w, h_pieces[j], h_queue, j))\n",
    "            newThread.start()\n",
    "            h_threads.append(newThread)\n",
    "        for thread in h_threads:\n",
    "            thread.join()\n",
    "        while not h_queue.empty():\n",
    "            i, v = h_queue.get()\n",
    "            h_pieces[i] = v\n",
    "        h = np.concatenate(h_pieces, 1)\n",
    "    return w @ h\n",
    "    \n",
    "naive_parallel_NMF(testArray, 2, 2, 10000)"
   ]
  },
  {
   "cell_type": "code",
   "execution_count": 52,
   "metadata": {},
   "outputs": [
    {
     "name": "stderr",
     "output_type": "stream",
     "text": [
      "Exception in thread Thread-80368:\n",
      "Traceback (most recent call last):\n",
      "  File \"c:\\Users\\james\\AppData\\Local\\Programs\\Python\\Python39\\lib\\threading.py\", line 973, in _bootstrap_inner\n",
      "Exception in thread Thread-80369:\n",
      "Traceback (most recent call last):\n",
      "  File \"c:\\Users\\james\\AppData\\Local\\Programs\\Python\\Python39\\lib\\threading.py\", line 973, in _bootstrap_inner\n",
      "        self.run()\n",
      "  File \"c:\\Users\\james\\AppData\\Local\\Programs\\Python\\Python39\\lib\\threading.py\", line 910, in run\n",
      "self.run()\n",
      "  File \"c:\\Users\\james\\AppData\\Local\\Programs\\Python\\Python39\\lib\\threading.py\", line 910, in run\n",
      "    self._target(*self._args, **self._kwargs)\n",
      "TypeError: vertical_thread_function_y() missing 1 required positional argument: 'j'\n",
      "    self._target(*self._args, **self._kwargs)\n",
      "TypeError: vertical_thread_function_y() missing 1 required positional argument: 'j'\n"
     ]
    },
    {
     "name": "stdout",
     "output_type": "stream",
     "text": [
      "(4, 16, 2)\n",
      "u:\n",
      "[[3.39512916 2.80669921]\n",
      " [2.80669921 2.89613317]]\n",
      "\n",
      "v:\n",
      "[]\n"
     ]
    }
   ],
   "source": [
    "def vertical_thread_function_u(h, q):\n",
    "    q.put(h @ h.T)\n",
    "\n",
    "def vertical_thread_function_v(a, h, q, i, j):\n",
    "    q.put((i, j, a @ h.T))\n",
    "\n",
    "def vertical_thread_function_x(w, q, i, j):\n",
    "    q.put((i, j, w.T @ w))\n",
    "\n",
    "def vertical_thread_function_y(a, w, q, i, j):\n",
    "    q.put((i, j, w.T @ a))\n",
    "\n",
    "def vertical_HPC_NMF(a, k, p1, p2, numIter):\n",
    "    m, n = np.shape(a)\n",
    "    if m % (p1*p2) > 0:\n",
    "        raise TypeError('Input first dimension not divisible by number of threads')\n",
    "    if n % (p1*p2) > 0:\n",
    "        raise TypeError('Input second dimension not divisible by number of threads')\n",
    "    w = np.random.rand(m, k)\n",
    "    h = np.random.rand(k, n)\n",
    "\n",
    "    a_pieces = [[a[int(i*n/p1):int((i+1)*n/p1), int(j*n/p2):int((j+1)*n/p2)] for i in range(p1)] for j in range(p2)]\n",
    "    print(np.shape(a_pieces))\n",
    "\n",
    "    for _ in range(numIter):\n",
    "        u = np.zeros((k, k))\n",
    "        h_pieces_u = [[np.random.rand(k, int(n/(p1*p2))) for i in range(p1)] for j in range(p2)] # chop up h into full grid #TO DO\n",
    "        threads_u = [[] for _ in range(p2)]\n",
    "        thread_queue_u = queue.Queue()\n",
    "        for i in range(p2): # keep threads in a p1 by p2 grid, like the paper does\n",
    "            for j in range(p1):\n",
    "                newThread = threading.Thread(target = vertical_thread_function_u, args = (h_pieces_u[i][j], thread_queue_u))\n",
    "                newThread.start()\n",
    "                threads_u[i].append(newThread)\n",
    "        for thread in [item for sublist in threads_u for item in sublist]:\n",
    "            thread.join()\n",
    "        while not thread_queue_u.empty():\n",
    "            u += thread_queue_u.get()\n",
    "\n",
    "        v_pieces = [np.zeros((m, int(k/p1))) for _ in range(p1)] # keep v split up into columns\n",
    "        h_pieces_v = [np.random.rand(k, int(n/p2)) for j in range(p2)] # chop up h into columns (for calculation of y) # TO DO\n",
    "        threads_v = []\n",
    "        thread_queue_v = queue.Queue()\n",
    "        for i in range(p2):\n",
    "            newThread = threading.Thread(target = vertical_thread_function_y, args = (h_pieces_v[i], thread_queue_v, i, j))\n",
    "            newThread.start()\n",
    "            threads_v.append(newThread)\n",
    "        for thread in threads_v:\n",
    "            thread.join()\n",
    "        while not thread_queue_v.empty():\n",
    "            i, val = thread_queue_v.get()\n",
    "            v_pieces[i] += val\n",
    "\n",
    "        x = np.zeros((k, k))\n",
    "        y = np.zeros((k, n))\n",
    "\n",
    "    print(f\"u:\\n{u}\\n\\nv:\\n{[]}\")\n",
    "    return\n",
    "\n",
    "vertical_HPC_NMF(np.zeros((16, 8)), 2, 4, 2, 1)"
   ]
  }
 ],
 "metadata": {
  "kernelspec": {
   "display_name": "Python 3.9.6 64-bit",
   "language": "python",
   "name": "python3"
  },
  "language_info": {
   "codemirror_mode": {
    "name": "ipython",
    "version": 3
   },
   "file_extension": ".py",
   "mimetype": "text/x-python",
   "name": "python",
   "nbconvert_exporter": "python",
   "pygments_lexer": "ipython3",
   "version": "3.9.6"
  },
  "orig_nbformat": 4,
  "vscode": {
   "interpreter": {
    "hash": "ce49416ec5583b0c8275b442a1d04bbfd540648d21a9ae0fe7642419cc3fbdff"
   }
  }
 },
 "nbformat": 4,
 "nbformat_minor": 2
}

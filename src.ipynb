{
 "cells": [
  {
   "cell_type": "code",
   "execution_count": 5,
   "metadata": {},
   "outputs": [
    {
     "data": {
      "text/plain": [
       "(2, 2)"
      ]
     },
     "execution_count": 5,
     "metadata": {},
     "output_type": "execute_result"
    }
   ],
   "source": [
    "import numpy as np\n",
    "import threading\n",
    "import queue\n",
    "testArray = np.array([[1, 2], [2, 1]])\n",
    "np.shape(testArray)"
   ]
  },
  {
   "cell_type": "code",
   "execution_count": 6,
   "metadata": {},
   "outputs": [
    {
     "data": {
      "text/plain": [
       "array([[1., 2.],\n",
       "       [2., 1.]])"
      ]
     },
     "execution_count": 6,
     "metadata": {},
     "output_type": "execute_result"
    }
   ],
   "source": [
    "def simple_NMF(A, k, i):\n",
    "    m, n = np.shape(A)\n",
    "    W = np.random.rand(m, k)\n",
    "    H = np.random.rand(k, n)\n",
    "    for _ in range(i):\n",
    "        W = W * (A @ H.T) / (W @ H @ H.T)\n",
    "        H = H * (W.T @ A) / (W.T @ W @ H)\n",
    "    return W @ H\n",
    "\n",
    "simple_NMF(testArray, 2, 1000)"
   ]
  },
  {
   "cell_type": "code",
   "execution_count": 7,
   "metadata": {},
   "outputs": [
    {
     "data": {
      "text/plain": [
       "array([[1., 2.],\n",
       "       [2., 1.]])"
      ]
     },
     "execution_count": 7,
     "metadata": {},
     "output_type": "execute_result"
    }
   ],
   "source": [
    "def thread_function_w(A, w, h, q, i):\n",
    "    q.put((i, w * (A @ h.T) / (w @ h @ h.T)))\n",
    "\n",
    "def thread_function_h(A, w, h, q, i):\n",
    "    q.put((i, h * (w.T @ A) / (w.T @ w @ h)))\n",
    "\n",
    "def naive_parallel_NMF(A, k, p, numIter):\n",
    "    m, n = np.shape(A)\n",
    "    if m % p > 0:\n",
    "        raise TypeError('Input first dimension not divisible by number of threads')\n",
    "    if n % p > 0:\n",
    "        raise TypeError('Input second dimension not divisible by number of threads')\n",
    "    w = np.random.rand(m, k)\n",
    "    h = np.random.rand(k, n)\n",
    "    a_pieces_1 = [A[int(i*m/p):int((i+1)*m/p), :] for i in range(p)]\n",
    "    a_pieces_2 = [A[:, int(i*n/p):int((i+1)*n/p)] for i in range(p)]\n",
    "    \n",
    "    for _ in range(numIter):\n",
    "        w_pieces = [w[int(i*m/p):int((i+1)*m/p), :] for i in range(p)] # chop up w\n",
    "        w_threads = []\n",
    "        w_queue = queue.Queue()\n",
    "        for j in range(p):\n",
    "            newThread = threading.Thread(target = thread_function_w, args = (a_pieces_1[j], w_pieces[j], h, w_queue, j)) # each thread updates one section\n",
    "            newThread.start()\n",
    "            w_threads.append(newThread)\n",
    "        for thread in w_threads: # wait for all threads to complete\n",
    "            thread.join()\n",
    "        while not w_queue.empty(): # reconstitute and update w\n",
    "            i, v = w_queue.get()\n",
    "            w_pieces[i] = v\n",
    "        w = np.concatenate(w_pieces, 0)\n",
    "\n",
    "        h_pieces = [h[:, int(i*n/p):int((i+1)*n/p)] for i in range(p)] # same procedure for h\n",
    "        h_threads = []\n",
    "        h_queue = queue.Queue()\n",
    "        for j in range(p):\n",
    "            newThread = threading.Thread(target = thread_function_h, args = (a_pieces_2[j], w, h_pieces[j], h_queue, j))\n",
    "            newThread.start()\n",
    "            h_threads.append(newThread)\n",
    "        for thread in h_threads:\n",
    "            thread.join()\n",
    "        while not h_queue.empty():\n",
    "            i, v = h_queue.get()\n",
    "            h_pieces[i] = v\n",
    "        h = np.concatenate(h_pieces, 1)\n",
    "    return w @ h\n",
    "    \n",
    "naive_parallel_NMF(testArray, 2, 2, 10000)"
   ]
  },
  {
   "cell_type": "code",
   "execution_count": 42,
   "metadata": {},
   "outputs": [
    {
     "name": "stdout",
     "output_type": "stream",
     "text": [
      "u:\n",
      "[[3.11894438 2.92345926]\n",
      " [2.92345926 3.2851652 ]]\n",
      "\n",
      "v:\n",
      "[]\n"
     ]
    }
   ],
   "source": [
    "def vertical_thread_function_u(h, q):\n",
    "    q.put(h @ h.T)\n",
    "\n",
    "def vertical_thread_function_v(A, h, q, i, j):\n",
    "    q.put((i, j, A @ h.T))\n",
    "\n",
    "def vertical_thread_function_x(w, q, i, j):\n",
    "    q.put((i, j, w.T @ w))\n",
    "\n",
    "def vertical_thread_function_y(A, w, q, i, j):\n",
    "    q.put((i, j, w.T @ A))\n",
    "\n",
    "def vertical_HPC_NMF(A, k, p1, p2, numIter):\n",
    "    m, n = np.shape(A)\n",
    "    if m % (p1*p2) > 0:\n",
    "        raise TypeError('Input first dimension not divisible by number of threads')\n",
    "    if n % (p1*p2) > 0:\n",
    "        raise TypeError('Input second dimension not divisible by number of threads')\n",
    "    w = np.random.rand(m, k)\n",
    "    h = np.random.rand(k, n)\n",
    "\n",
    "    for _ in range(numIter):\n",
    "        u = np.zeros((k, k)) # temporary, for proof-of-concept\n",
    "        h_pieces_u = [[np.random.rand(k, int(n/(p1*p2))) for i in range(p1)] for j in range(p2)] # chop up h into full grid\n",
    "        thread_grid_u = [[] for _ in range(p2)]\n",
    "        thread_queue_u = queue.Queue()\n",
    "        for i in range(p2): # keep threads in a p1 by p2 grid, like the paper does\n",
    "            for j in range(p1):\n",
    "                newThread = threading.Thread(target = vertical_thread_function_u, args = (h_pieces_u[i][j], thread_queue_u))\n",
    "                newThread.start()\n",
    "                thread_grid_u[i].append(newThread)\n",
    "        for thread in [item for sublist in thread_grid_u for item in sublist]:\n",
    "            thread.join()\n",
    "        while not thread_queue_u.empty():\n",
    "            u += thread_queue_u.get()\n",
    "\n",
    "        \n",
    "\n",
    "    print(f\"u:\\n{u}\\n\\nv:\\n{[]}\")\n",
    "    return\n",
    "\n",
    "vertical_HPC_NMF(np.zeros((16, 8)), 2, 4, 2, 1)"
   ]
  }
 ],
 "metadata": {
  "kernelspec": {
   "display_name": "Python 3.9.6 64-bit",
   "language": "python",
   "name": "python3"
  },
  "language_info": {
   "codemirror_mode": {
    "name": "ipython",
    "version": 3
   },
   "file_extension": ".py",
   "mimetype": "text/x-python",
   "name": "python",
   "nbconvert_exporter": "python",
   "pygments_lexer": "ipython3",
   "version": "3.9.6"
  },
  "orig_nbformat": 4,
  "vscode": {
   "interpreter": {
    "hash": "ce49416ec5583b0c8275b442a1d04bbfd540648d21a9ae0fe7642419cc3fbdff"
   }
  }
 },
 "nbformat": 4,
 "nbformat_minor": 2
}

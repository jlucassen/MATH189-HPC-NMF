{
 "cells": [
  {
   "cell_type": "code",
   "execution_count": 1,
   "metadata": {},
   "outputs": [
    {
     "data": {
      "text/plain": [
       "(2, 2)"
      ]
     },
     "execution_count": 1,
     "metadata": {},
     "output_type": "execute_result"
    }
   ],
   "source": [
    "import numpy as np\n",
    "import threading\n",
    "import queue\n",
    "#testArray = np.array([[1,2,3,4],[2,3,4,1],[3,4,1,2],[4,1,2,3],[3,4,1,2],[4,1,2,3]])\n",
    "testArray = np.array([[1, 2], [2, 1]])\n",
    "np.shape(testArray)"
   ]
  },
  {
   "cell_type": "code",
   "execution_count": 2,
   "metadata": {},
   "outputs": [
    {
     "data": {
      "text/plain": [
       "array([[1., 2.],\n",
       "       [2., 1.]])"
      ]
     },
     "execution_count": 2,
     "metadata": {},
     "output_type": "execute_result"
    }
   ],
   "source": [
    "def simpleNMF(A, k, i):\n",
    "    m, n = np.shape(A)\n",
    "    W = np.random.rand(m, k)\n",
    "    H = np.random.rand(k, n)\n",
    "    for _ in range(i):\n",
    "        W = W * (A @ H.T) / (W @ H @ H.T)\n",
    "        H = H * (W.T @ A) / (W.T @ W @ H)\n",
    "    return W @ H\n",
    "\n",
    "simpleNMF(testArray, 2, 1000)"
   ]
  },
  {
   "cell_type": "code",
   "execution_count": 3,
   "metadata": {},
   "outputs": [
    {
     "name": "stdout",
     "output_type": "stream",
     "text": [
      "initial: [[0.53708831 0.69200755]\n",
      " [0.11947232 0.1884871 ]]\n"
     ]
    },
    {
     "data": {
      "text/plain": [
       "array([[1., 2.],\n",
       "       [2., 1.]])"
      ]
     },
     "execution_count": 3,
     "metadata": {},
     "output_type": "execute_result"
    }
   ],
   "source": [
    "def thread_function_W(A, W, H, q, i):\n",
    "    q.put((i, W * (A @ H.T) / (W @ H @ H.T)))\n",
    "\n",
    "def thread_function_H(A, W, H, q, i):\n",
    "    q.put((i, H * (W.T @ A) / (W.T @ W @ H)))\n",
    "\n",
    "class matrixHolder():\n",
    "    def __init__(self):\n",
    "        self.value = None\n",
    "    \n",
    "    def get(self):\n",
    "        return self.value\n",
    "\n",
    "    def set(self, newValue):\n",
    "        self.value = newValue\n",
    "\n",
    "\n",
    "def naiveParallelNMF(A, k, p, numIter):\n",
    "    m, n = np.shape(A)\n",
    "    if m % p > 0:\n",
    "        raise TypeError('Input first dimension not divisible by number of threads')\n",
    "    if n % p > 0:\n",
    "        raise TypeError('Input second dimension not divisible by number of threads')\n",
    "    W = np.random.rand(m, k)\n",
    "    H = np.random.rand(k, n)\n",
    "    print(f\"initial: {W@H}\")\n",
    "    As1 = [A[int(i*m/p):int((i+1)*m/p), :] for i in range(p)]\n",
    "    As2 = [A[:, int(i*n/p):int((i+1)*n/p)] for i in range(p)]\n",
    "    \n",
    "    for _ in range(numIter):\n",
    "        Ws = [W[int(i*m/p):int((i+1)*m/p), :] for i in range(p)] # chop up W\n",
    "        w_threads = []\n",
    "        w_queue = queue.Queue()\n",
    "        for j in range(p):\n",
    "            newThread = threading.Thread(target = thread_function_W, args = (As1[j], Ws[j], H, w_queue, j)) # each thread updates one section\n",
    "            newThread.start()\n",
    "            w_threads.append(newThread)\n",
    "        for thread in w_threads: # wait for all threads to complete\n",
    "            thread.join()\n",
    "        while not w_queue.empty(): # reconstitute and update W\n",
    "            i, v = w_queue.get()\n",
    "            Ws[i] = v\n",
    "        W = np.concatenate(Ws, 0)\n",
    "\n",
    "        Hs = [H[:, int(i*n/p):int((i+1)*n/p)] for i in range(p)] # same procedure for H\n",
    "        h_threads = []\n",
    "        h_queue = queue.Queue()\n",
    "        for j in range(p):\n",
    "            newThread = threading.Thread(target = thread_function_H, args = (As2[j], W, Hs[j], h_queue, j))\n",
    "            newThread.start()\n",
    "            h_threads.append(newThread)\n",
    "        for thread in h_threads:\n",
    "            thread.join()\n",
    "        while not h_queue.empty():\n",
    "            i, v = h_queue.get()\n",
    "            Hs[i] = v\n",
    "        H = np.concatenate(Hs, 1)\n",
    "    return W @ H\n",
    "    \n",
    "naiveParallelNMF(testArray, 2, 2, 10000)"
   ]
  },
  {
   "cell_type": "code",
   "execution_count": 4,
   "metadata": {},
   "outputs": [],
   "source": [
    "def HPC_NMF(A, k, p1, p2, numIter):\n",
    "    m, n = np.shape(A)\n",
    "    if m % (p1*p2) > 0:\n",
    "        raise TypeError('Input first dimension not divisible by number of threads')\n",
    "    if n % (p1*p2) > 0:\n",
    "        raise TypeError('Input second dimension not divisible by number of threads')\n",
    "    W = np.random.rand(m, k)\n",
    "    H = np.random.rand(k, n)\n",
    "\n",
    "    Hs = [[np.random.rand(k, int(n/(p1*p2))) for i in range(p)] for j in range(p2)]\n",
    "\n",
    "\n",
    "    return A"
   ]
  }
 ],
 "metadata": {
  "kernelspec": {
   "display_name": "Python 3.9.6 64-bit",
   "language": "python",
   "name": "python3"
  },
  "language_info": {
   "codemirror_mode": {
    "name": "ipython",
    "version": 3
   },
   "file_extension": ".py",
   "mimetype": "text/x-python",
   "name": "python",
   "nbconvert_exporter": "python",
   "pygments_lexer": "ipython3",
   "version": "3.9.6"
  },
  "orig_nbformat": 4,
  "vscode": {
   "interpreter": {
    "hash": "ce49416ec5583b0c8275b442a1d04bbfd540648d21a9ae0fe7642419cc3fbdff"
   }
  }
 },
 "nbformat": 4,
 "nbformat_minor": 2
}
